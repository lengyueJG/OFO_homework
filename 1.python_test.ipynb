{
 "cells": [
  {
   "cell_type": "markdown",
   "metadata": {},
   "source": [
    "# 1.python基础试题"
   ]
  },
  {
   "cell_type": "markdown",
   "metadata": {},
   "source": [
    "1.1 python 中boolean、float 和 int 分别表示什么？"
   ]
  },
  {
   "cell_type": "markdown",
   "metadata": {},
   "source": [
    "布尔类型、浮点型、整型数据类型"
   ]
  },
  {
   "cell_type": "markdown",
   "metadata": {},
   "source": [
    "1.2  设计求1-2+3-4+5 ... 99的所有数的和"
   ]
  },
  {
   "cell_type": "code",
   "execution_count": 1,
   "metadata": {},
   "outputs": [
    {
     "name": "stdout",
     "output_type": "stream",
     "text": [
      "50\n"
     ]
    }
   ],
   "source": [
    "ans = 1\n",
    "for i in range(49):\n",
    "    ans -= i*2+2\n",
    "    ans += i*2+3\n",
    "print(ans)"
   ]
  },
  {
   "cell_type": "markdown",
   "metadata": {},
   "source": [
    "1.3  将字符串 s=\"yoyo\" 转换成列表"
   ]
  },
  {
   "cell_type": "code",
   "execution_count": 2,
   "metadata": {},
   "outputs": [
    {
     "data": {
      "text/plain": [
       "['y', 'o', 'y', 'o']"
      ]
     },
     "execution_count": 2,
     "metadata": {},
     "output_type": "execute_result"
    }
   ],
   "source": [
    "s = \"yoyo\"\n",
    "list(s)"
   ]
  },
  {
   "cell_type": "markdown",
   "metadata": {},
   "source": [
    "# 2. python进阶基础试题"
   ]
  },
  {
   "cell_type": "markdown",
   "metadata": {},
   "source": [
    "2.1     for i in range(1,100)[2::3][-10:]: \n",
    "\n",
    "                print i \n",
    "                \n",
    "        理解这段代码，并说出它是如何取数的"
   ]
  },
  {
   "cell_type": "markdown",
   "metadata": {},
   "source": [
    "range(1,100)产生从1到99,[2::3]对其进行切片[2:99:3],取出3到99之间步进为3的数相当于range(3,100,3)，然后[-10:]取出倒数第十个数之后的数相当于range(72, 102, 3)"
   ]
  },
  {
   "cell_type": "markdown",
   "metadata": {},
   "source": [
    "2.2 使用init 实例化时自动运行  分别计算单只股票最高价和收盘价两个时间点差值问题,可统一为one、two两个时间点,其最高价和收盘价赋值为 one(15,7) two(66,20)"
   ]
  },
  {
   "cell_type": "code",
   "execution_count": 3,
   "metadata": {},
   "outputs": [],
   "source": [
    "class stock:\n",
    "    def __init__(self, one, two):\n",
    "        self.one_dic = {}\n",
    "        self.two_dic = {}\n",
    "        self.one_dic['one_dif'] = one[0]-one[1]\n",
    "        self.two_dic['two_dif'] = two[0]-two[1]"
   ]
  },
  {
   "cell_type": "code",
   "execution_count": 4,
   "metadata": {},
   "outputs": [
    {
     "name": "stdout",
     "output_type": "stream",
     "text": [
      "{'one_dif': 8}\n",
      "{'two_dif': 46}\n"
     ]
    }
   ],
   "source": [
    "s = stock((15,7),(66,20))\n",
    "print(s.one_dic)\n",
    "print(s.two_dic)"
   ]
  },
  {
   "cell_type": "markdown",
   "metadata": {},
   "source": [
    "# 3. pandas数据处理试题"
   ]
  },
  {
   "cell_type": "markdown",
   "metadata": {},
   "source": [
    "3.1 如何查看列名、怎么对数据转置"
   ]
  },
  {
   "cell_type": "markdown",
   "metadata": {},
   "source": [
    "设数据名称为df查看列名使用df.columns, 转置使用df.T"
   ]
  },
  {
   "cell_type": "markdown",
   "metadata": {},
   "source": [
    "3.2 读取data里的600029这只股票的DataFrame,将其收盘价转换成用Numpy的Array格式，并用talib计算10日EMA值，返回ndarray的最后五个值"
   ]
  },
  {
   "cell_type": "code",
   "execution_count": 5,
   "metadata": {},
   "outputs": [
    {
     "data": {
      "text/plain": [
       "array([15.08227205, 15.2564044 , 15.44433088, 15.72172526, 15.96322976])"
      ]
     },
     "execution_count": 5,
     "metadata": {},
     "output_type": "execute_result"
    }
   ],
   "source": [
    "import pandas as pd\n",
    "import numpy as np\n",
    "import talib as ta\n",
    "stock = pd.read_excel('sz50.xlsx',sheetname='600029.XSHG', index_col='datetime')\n",
    "close = stock.close.values\n",
    "ta.EMA(close,10)[-5:]"
   ]
  },
  {
   "cell_type": "markdown",
   "metadata": {},
   "source": [
    "3.3 读取sz50.xlsx的['600029.XSHG','600050.XSHG','601318.XSHG']的全数据做成Panel"
   ]
  },
  {
   "cell_type": "code",
   "execution_count": 6,
   "metadata": {},
   "outputs": [
    {
     "name": "stdout",
     "output_type": "stream",
     "text": [
      "<class 'pandas.core.panel.Panel'>\n",
      "Dimensions: 3 (items) x 215 (major_axis) x 5 (minor_axis)\n",
      "Items axis: 600029.XSHG to 601318.XSHG\n",
      "Major_axis axis: 2017-01-03 15:00:00 to 2017-11-20 15:00:00\n",
      "Minor_axis axis: close to volume\n"
     ]
    }
   ],
   "source": [
    "from datetime import datetime\n",
    "import pandas as pd\n",
    "symbol=['600029.XSHG','600050.XSHG','601318.XSHG']\n",
    "data_dict = {}\n",
    "for s in symbol:\n",
    "    data =  pd.read_excel('sz50.xlsx',sheetname=s, index_col='datetime')\n",
    "    data_dict[s] = data\n",
    "PN = pd.Panel(data_dict)\n",
    "print(PN)"
   ]
  },
  {
   "cell_type": "markdown",
   "metadata": {},
   "source": [
    "3.4把Panel转成ndim为3的Numpy，然后用array的切片读取ndim为2的三只股票最近20天的收盘价"
   ]
  },
  {
   "cell_type": "code",
   "execution_count": 7,
   "metadata": {},
   "outputs": [
    {
     "name": "stdout",
     "output_type": "stream",
     "text": [
      "(3, 215, 5)\n",
      "[[ 13.85  13.82  13.83  14.11  14.25  14.39  15.1   15.15  15.22  14.97\n",
      "   14.89  14.99  14.71  15.07  15.35  16.    16.04  16.29  16.97  17.05]\n",
      " [  8.53   8.56   8.62   8.88   9.25   9.24   9.43   9.25   9.02   9.15\n",
      "    9.63   9.5    9.9    9.97   9.96   9.49   9.68   9.61   9.63   9.8 ]\n",
      " [134.83 134.56 137.5  143.18 143.48 144.15 143.61 143.65 144.35 143.36\n",
      "  146.41 144.71 148.56 156.53 157.12 157.72 154.99 163.52 168.58 169.57]]\n"
     ]
    }
   ],
   "source": [
    "array = PN.values\n",
    "print(array.shape)\n",
    "np.set_printoptions(suppress=True)\n",
    "print(array[:,-20:,0])"
   ]
  },
  {
   "cell_type": "markdown",
   "metadata": {},
   "source": [
    "3.5 建立一个5*5的矩阵，值从0到24"
   ]
  },
  {
   "cell_type": "code",
   "execution_count": 8,
   "metadata": {},
   "outputs": [
    {
     "data": {
      "text/plain": [
       "array([[ 0,  1,  2,  3,  4],\n",
       "       [ 5,  6,  7,  8,  9],\n",
       "       [10, 11, 12, 13, 14],\n",
       "       [15, 16, 17, 18, 19],\n",
       "       [20, 21, 22, 23, 24]])"
      ]
     },
     "execution_count": 8,
     "metadata": {},
     "output_type": "execute_result"
    }
   ],
   "source": [
    "np.arange(25).reshape(5,5)"
   ]
  }
 ],
 "metadata": {
  "kernelspec": {
   "display_name": "Python 3",
   "language": "python",
   "name": "python3"
  },
  "language_info": {
   "codemirror_mode": {
    "name": "ipython",
    "version": 3
   },
   "file_extension": ".py",
   "mimetype": "text/x-python",
   "name": "python",
   "nbconvert_exporter": "python",
   "pygments_lexer": "ipython3",
   "version": "3.6.5"
  },
  "toc": {
   "base_numbering": 1,
   "nav_menu": {},
   "number_sections": true,
   "sideBar": true,
   "skip_h1_title": false,
   "title_cell": "Table of Contents",
   "title_sidebar": "Contents",
   "toc_cell": false,
   "toc_position": {},
   "toc_section_display": true,
   "toc_window_display": false
  }
 },
 "nbformat": 4,
 "nbformat_minor": 2
}
